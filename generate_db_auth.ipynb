{
 "cells": [
  {
   "cell_type": "code",
   "execution_count": null,
   "id": "15d5f158",
   "metadata": {},
   "outputs": [],
   "source": [
    "import time, jwt\n",
    "from pathlib import Path\n",
    "\n",
    "key_path = Path(\"./\") / \"boxing\" / \"database\" / \"certs\" / \"private_key.pem\"\n",
    "with open(key_path, \"r\") as f:\n",
    "    private_key = f.read()\n",
    "\n",
    "time_ = 30 * 24 * 60 * 60 # 30 days in seconds\n",
    "# time_ = 3600 # 1 hour in seconds\n",
    "\n",
    "claims = {\"a\": \"rw\", \"iat\": int(time.time()), \"exp\": int(time.time()) + time_}\n",
    "print(jwt.encode(claims, private_key, algorithm=\"EdDSA\"))"
   ]
  }
 ],
 "metadata": {
  "kernelspec": {
   "display_name": "Python 3",
   "language": "python",
   "name": "python3"
  },
  "language_info": {
   "codemirror_mode": {
    "name": "ipython",
    "version": 3
   },
   "file_extension": ".py",
   "mimetype": "text/x-python",
   "name": "python",
   "nbconvert_exporter": "python",
   "pygments_lexer": "ipython3",
   "version": "3.10.8"
  }
 },
 "nbformat": 4,
 "nbformat_minor": 5
}
